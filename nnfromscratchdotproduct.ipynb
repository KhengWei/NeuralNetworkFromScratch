{
 "cells": [
  {
   "cell_type": "code",
   "execution_count": 1,
   "id": "37e4cdd1",
   "metadata": {
    "_cell_guid": "b1076dfc-b9ad-4769-8c92-a6c4dae69d19",
    "_uuid": "8f2839f25d086af736a60e9eeb907d3b93b6e0e5",
    "execution": {
     "iopub.execute_input": "2023-07-24T02:39:12.478254Z",
     "iopub.status.busy": "2023-07-24T02:39:12.477854Z",
     "iopub.status.idle": "2023-07-24T02:39:12.491604Z",
     "shell.execute_reply": "2023-07-24T02:39:12.490340Z"
    },
    "papermill": {
     "duration": 0.020547,
     "end_time": "2023-07-24T02:39:12.494364",
     "exception": false,
     "start_time": "2023-07-24T02:39:12.473817",
     "status": "completed"
    },
    "tags": []
   },
   "outputs": [
    {
     "name": "stdout",
     "output_type": "stream",
     "text": [
      "Python: 3.10.12 | packaged by conda-forge | (main, Jun 23 2023, 22:40:32) [GCC 12.3.0]\n",
      "Numpy: 1.23.5\n",
      "Matplotlib 3.7.2\n"
     ]
    }
   ],
   "source": [
    "# import apporpriate libraries\n",
    "import sys\n",
    "import numpy as np\n",
    "import matplotlib\n",
    "\n",
    "# Make sure the libraries are legit imported \n",
    "print(\"Python:\", sys.version)\n",
    "print(\"Numpy:\", np.__version__)\n",
    "print(\"Matplotlib\", matplotlib.__version__)\n"
   ]
  }
 ],
 "metadata": {
  "kernelspec": {
   "display_name": "Python 3",
   "language": "python",
   "name": "python3"
  },
  "language_info": {
   "codemirror_mode": {
    "name": "ipython",
    "version": 3
   },
   "file_extension": ".py",
   "mimetype": "text/x-python",
   "name": "python",
   "nbconvert_exporter": "python",
   "pygments_lexer": "ipython3",
   "version": "3.10.12"
  },
  "papermill": {
   "default_parameters": {},
   "duration": 12.665927,
   "end_time": "2023-07-24T02:39:13.319218",
   "environment_variables": {},
   "exception": null,
   "input_path": "__notebook__.ipynb",
   "output_path": "__notebook__.ipynb",
   "parameters": {},
   "start_time": "2023-07-24T02:39:00.653291",
   "version": "2.4.0"
  }
 },
 "nbformat": 4,
 "nbformat_minor": 5
}
