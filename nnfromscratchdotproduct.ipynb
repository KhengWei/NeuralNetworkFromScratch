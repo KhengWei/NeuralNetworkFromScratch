{
 "cells": [
  {
   "cell_type": "code",
   "execution_count": 1,
   "id": "09243418",
   "metadata": {
    "_cell_guid": "b1076dfc-b9ad-4769-8c92-a6c4dae69d19",
    "_uuid": "8f2839f25d086af736a60e9eeb907d3b93b6e0e5",
    "execution": {
     "iopub.execute_input": "2023-07-26T01:25:10.719235Z",
     "iopub.status.busy": "2023-07-26T01:25:10.718836Z",
     "iopub.status.idle": "2023-07-26T01:25:10.732710Z",
     "shell.execute_reply": "2023-07-26T01:25:10.731675Z"
    },
    "papermill": {
     "duration": 0.021462,
     "end_time": "2023-07-26T01:25:10.735364",
     "exception": false,
     "start_time": "2023-07-26T01:25:10.713902",
     "status": "completed"
    },
    "tags": []
   },
   "outputs": [
    {
     "name": "stdout",
     "output_type": "stream",
     "text": [
      "Python: 3.10.12 | packaged by conda-forge | (main, Jun 23 2023, 22:40:32) [GCC 12.3.0]\n",
      "Numpy: 1.23.5\n",
      "Matplotlib 3.7.2\n"
     ]
    }
   ],
   "source": [
    "# import apporpriate libraries\n",
    "import sys\n",
    "import numpy as np\n",
    "import matplotlib\n",
    "\n",
    "# Make sure the libraries are legit imported \n",
    "print(\"Python:\", sys.version)\n",
    "print(\"Numpy:\", np.__version__)\n",
    "print(\"Matplotlib\", matplotlib.__version__)\n"
   ]
  },
  {
   "cell_type": "markdown",
   "id": "7c4f6569",
   "metadata": {
    "papermill": {
     "duration": 0.002016,
     "end_time": "2023-07-26T01:25:10.740062",
     "exception": false,
     "start_time": "2023-07-26T01:25:10.738046",
     "status": "completed"
    },
    "tags": []
   },
   "source": [
    "* Lets convert the previous code to be more \"dynamic\""
   ]
  },
  {
   "cell_type": "code",
   "execution_count": 2,
   "id": "f6f03720",
   "metadata": {
    "execution": {
     "iopub.execute_input": "2023-07-26T01:25:10.746700Z",
     "iopub.status.busy": "2023-07-26T01:25:10.745876Z",
     "iopub.status.idle": "2023-07-26T01:25:10.754127Z",
     "shell.execute_reply": "2023-07-26T01:25:10.753093Z"
    },
    "papermill": {
     "duration": 0.014544,
     "end_time": "2023-07-26T01:25:10.756704",
     "exception": false,
     "start_time": "2023-07-26T01:25:10.742160",
     "status": "completed"
    },
    "tags": []
   },
   "outputs": [
    {
     "name": "stdout",
     "output_type": "stream",
     "text": [
      "[4.8, 1.21, 2.385]\n"
     ]
    }
   ],
   "source": [
    "inputs = [1, 2, 3, 2.5]\n",
    "\n",
    "weights = [[0.2, 0.8, -0.5, 1.0],\n",
    "           [0.5, -0.91, 0.26, -0.5],\n",
    "           [-0.26, -0.27, 0.17, 0.87]]\n",
    "\n",
    "biases = [2, 3, 0.5]\n",
    "\n",
    "\n",
    "layer_outputs = [] # output of current layer\n",
    "\n",
    "# zip combines 2 list into a list of list element wise\n",
    "for neuron_weights, neuron_bias in zip(weights, biases):\n",
    "    neuron_output = 0 # output of given neuron\n",
    "    for n_input, weight in zip(inputs, neuron_weights):\n",
    "        neuron_output += n_input*weight\n",
    "    neuron_output += neuron_bias\n",
    "    layer_outputs.append(neuron_output)\n",
    "\n",
    "print(layer_outputs)"
   ]
  }
 ],
 "metadata": {
  "kernelspec": {
   "display_name": "Python 3",
   "language": "python",
   "name": "python3"
  },
  "language_info": {
   "codemirror_mode": {
    "name": "ipython",
    "version": 3
   },
   "file_extension": ".py",
   "mimetype": "text/x-python",
   "name": "python",
   "nbconvert_exporter": "python",
   "pygments_lexer": "ipython3",
   "version": "3.10.12"
  },
  "papermill": {
   "default_parameters": {},
   "duration": 14.493762,
   "end_time": "2023-07-26T01:25:11.983835",
   "environment_variables": {},
   "exception": null,
   "input_path": "__notebook__.ipynb",
   "output_path": "__notebook__.ipynb",
   "parameters": {},
   "start_time": "2023-07-26T01:24:57.490073",
   "version": "2.4.0"
  }
 },
 "nbformat": 4,
 "nbformat_minor": 5
}
