{
 "cells": [
  {
   "cell_type": "code",
   "execution_count": 1,
   "id": "3201947c",
   "metadata": {
    "_cell_guid": "b1076dfc-b9ad-4769-8c92-a6c4dae69d19",
    "_uuid": "8f2839f25d086af736a60e9eeb907d3b93b6e0e5",
    "execution": {
     "iopub.execute_input": "2023-07-26T01:40:53.262404Z",
     "iopub.status.busy": "2023-07-26T01:40:53.261500Z",
     "iopub.status.idle": "2023-07-26T01:40:53.278161Z",
     "shell.execute_reply": "2023-07-26T01:40:53.276332Z"
    },
    "papermill": {
     "duration": 0.025392,
     "end_time": "2023-07-26T01:40:53.281195",
     "exception": false,
     "start_time": "2023-07-26T01:40:53.255803",
     "status": "completed"
    },
    "tags": []
   },
   "outputs": [
    {
     "name": "stdout",
     "output_type": "stream",
     "text": [
      "Python: 3.10.12 | packaged by conda-forge | (main, Jun 23 2023, 22:40:32) [GCC 12.3.0]\n",
      "Numpy: 1.23.5\n",
      "Matplotlib 3.7.2\n"
     ]
    }
   ],
   "source": [
    "# import apporpriate libraries\n",
    "import sys\n",
    "import numpy as np\n",
    "import matplotlib\n",
    "\n",
    "# Make sure the libraries are legit imported \n",
    "print(\"Python:\", sys.version)\n",
    "print(\"Numpy:\", np.__version__)\n",
    "print(\"Matplotlib\", matplotlib.__version__)\n"
   ]
  },
  {
   "cell_type": "markdown",
   "id": "2413c279",
   "metadata": {
    "papermill": {
     "duration": 0.002331,
     "end_time": "2023-07-26T01:40:53.286518",
     "exception": false,
     "start_time": "2023-07-26T01:40:53.284187",
     "status": "completed"
    },
    "tags": []
   },
   "source": [
    "* Lets convert the previous code to be more \"dynamic\"\n",
    "* weights and biases are these knobs that we tune or going deeper its going to be optimizer that tunes these values in an attempt to fit some data because we've got thousands or millions of these tunable parameter we can so many things.\n",
    "* You can in theory have a neural network to have one with biases but probabbly possible for some simple tasks you can neural network with just weights like you dont have to have weights and biases necessarily but they're helpful and biases are almost never going to like negatively impact anything\n",
    "* Bias offset the value so depends on what you're trying to do but at some point we're going to get into activation function & these are the functions that determine the final output before it becomes an input to another layer or maybe the final output to your NN in general.\n",
    "* The weights are just changing the magnitude, the biases is actually offsetting it. Its no different than the bias in Y = mx + b for an equation of the line."
   ]
  },
  {
   "cell_type": "code",
   "execution_count": 2,
   "id": "542c5aec",
   "metadata": {
    "execution": {
     "iopub.execute_input": "2023-07-26T01:40:53.294193Z",
     "iopub.status.busy": "2023-07-26T01:40:53.293707Z",
     "iopub.status.idle": "2023-07-26T01:40:53.303525Z",
     "shell.execute_reply": "2023-07-26T01:40:53.301909Z"
    },
    "papermill": {
     "duration": 0.017219,
     "end_time": "2023-07-26T01:40:53.306401",
     "exception": false,
     "start_time": "2023-07-26T01:40:53.289182",
     "status": "completed"
    },
    "tags": []
   },
   "outputs": [
    {
     "name": "stdout",
     "output_type": "stream",
     "text": [
      "[4.8, 1.21, 2.385]\n"
     ]
    }
   ],
   "source": [
    "inputs = [1, 2, 3, 2.5]\n",
    "\n",
    "weights = [[0.2, 0.8, -0.5, 1.0],\n",
    "           [0.5, -0.91, 0.26, -0.5],\n",
    "           [-0.26, -0.27, 0.17, 0.87]]\n",
    "\n",
    "biases = [2, 3, 0.5]\n",
    "\n",
    "\n",
    "layer_outputs = [] # output of current layer\n",
    "\n",
    "# zip combines 2 list into a list of list element wise\n",
    "for neuron_weights, neuron_bias in zip(weights, biases):\n",
    "    neuron_output = 0 # output of given neuron\n",
    "    for n_input, weight in zip(inputs, neuron_weights):\n",
    "        neuron_output += n_input*weight\n",
    "    neuron_output += neuron_bias\n",
    "    layer_outputs.append(neuron_output)\n",
    "\n",
    "print(layer_outputs)"
   ]
  },
  {
   "cell_type": "markdown",
   "id": "3f7b5d53",
   "metadata": {
    "papermill": {
     "duration": 0.0024,
     "end_time": "2023-07-26T01:40:53.312211",
     "exception": false,
     "start_time": "2023-07-26T01:40:53.309811",
     "status": "completed"
    },
    "tags": []
   },
   "source": []
  }
 ],
 "metadata": {
  "kernelspec": {
   "display_name": "Python 3",
   "language": "python",
   "name": "python3"
  },
  "language_info": {
   "codemirror_mode": {
    "name": "ipython",
    "version": 3
   },
   "file_extension": ".py",
   "mimetype": "text/x-python",
   "name": "python",
   "nbconvert_exporter": "python",
   "pygments_lexer": "ipython3",
   "version": "3.10.12"
  },
  "papermill": {
   "default_parameters": {},
   "duration": 16.333151,
   "end_time": "2023-07-26T01:40:54.642845",
   "environment_variables": {},
   "exception": null,
   "input_path": "__notebook__.ipynb",
   "output_path": "__notebook__.ipynb",
   "parameters": {},
   "start_time": "2023-07-26T01:40:38.309694",
   "version": "2.4.0"
  }
 },
 "nbformat": 4,
 "nbformat_minor": 5
}
