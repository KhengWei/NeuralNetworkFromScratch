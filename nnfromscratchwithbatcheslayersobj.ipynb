{
 "cells": [
  {
   "cell_type": "code",
   "execution_count": 1,
   "id": "6f1302dd",
   "metadata": {
    "_cell_guid": "b1076dfc-b9ad-4769-8c92-a6c4dae69d19",
    "_uuid": "8f2839f25d086af736a60e9eeb907d3b93b6e0e5",
    "execution": {
     "iopub.execute_input": "2023-07-28T07:48:54.987824Z",
     "iopub.status.busy": "2023-07-28T07:48:54.986936Z",
     "iopub.status.idle": "2023-07-28T07:48:54.999765Z",
     "shell.execute_reply": "2023-07-28T07:48:54.998818Z"
    },
    "papermill": {
     "duration": 0.019395,
     "end_time": "2023-07-28T07:48:55.002179",
     "exception": false,
     "start_time": "2023-07-28T07:48:54.982784",
     "status": "completed"
    },
    "tags": []
   },
   "outputs": [
    {
     "name": "stdout",
     "output_type": "stream",
     "text": [
      "Numpy: 1.23.5\n",
      "Matplotlib 3.7.2\n"
     ]
    }
   ],
   "source": [
    "import numpy as np\n",
    "import matplotlib as plt\n",
    "\n",
    "print(\"Numpy:\", np.__version__)\n",
    "print(\"Matplotlib\", plt.__version__)"
   ]
  },
  {
   "cell_type": "markdown",
   "id": "7042a0ff",
   "metadata": {
    "papermill": {
     "duration": 0.001845,
     "end_time": "2023-07-28T07:48:55.006353",
     "exception": false,
     "start_time": "2023-07-28T07:48:55.004508",
     "status": "completed"
    },
    "tags": []
   },
   "source": [
    "* Previously in NNFromScratchDotProduct.ipynb, we modelled a single layer of neuron and we'd like to do now is model 2 layers of neurons which we could extrapolate (estimate) out to however many layers of neuron we want & we also going to build a NN object (converting NN to an object).\n",
    "* The 1st thing we need to do is to cover the topic of batches. \n",
    "* Why batch? There are 2 reason for batches:\n",
    "* 1. We can calculate input, weights and bias in parallel. The bigger the batch the more parallel operations that we can run. This is also why we train NN on GPUs not CPUs because to take advantage of GPUs parallel processing power.\n",
    "* 2. The other reason we do it in batches is because it helps with generalization. Meaning we can pass a batch of features (ie: inputs) for fitting. To put it in a simple explaination, rather than showing 1 example at a time, we show multiple example at one time to let the computer to \"generalize\"\n",
    "* The caveat of batches is, it can cause overfitting. Its like making AI to be a \"smartass\". Having some knowledge but at the same time having wrong assumptions.\n",
    "* Different problems will vary with batch size. Ideally a batch size should be 32, 64 or 128\n"
   ]
  },
  {
   "cell_type": "code",
   "execution_count": 2,
   "id": "a30a7a1d",
   "metadata": {
    "execution": {
     "iopub.execute_input": "2023-07-28T07:48:55.011801Z",
     "iopub.status.busy": "2023-07-28T07:48:55.011488Z",
     "iopub.status.idle": "2023-07-28T07:48:55.022819Z",
     "shell.execute_reply": "2023-07-28T07:48:55.021793Z"
    },
    "papermill": {
     "duration": 0.0167,
     "end_time": "2023-07-28T07:48:55.024997",
     "exception": false,
     "start_time": "2023-07-28T07:48:55.008297",
     "status": "completed"
    },
    "tags": []
   },
   "outputs": [
    {
     "name": "stdout",
     "output_type": "stream",
     "text": [
      "[[ 4.8    1.21   2.385]\n",
      " [ 8.9   -1.81   0.2  ]\n",
      " [ 1.41   1.051  0.026]]\n"
     ]
    }
   ],
   "source": [
    "# converting single sample of inputs to a batch\n",
    "\n",
    "inputs = [[1, 2, 3, 2.5],\n",
    "          [2.0, 5.0, -1.0, 2.0],\n",
    "          [-1.5, 2.7, 3.3, -0.8]]\n",
    "\n",
    "\n",
    "# weights is a matrix of vectors\n",
    "weights = [[0.2, 0.8, -0.5, 1.0],\n",
    "           [0.5, -0.91, 0.26, -0.5],\n",
    "           [-0.26, -0.27, 0.17, 0.87]]\n",
    "\n",
    "biases = [2, 3, 0.5] # is a vector\n",
    "\n",
    "#Perform matrix transform to variable weight to avoid shape error\n",
    "#Convert variable weights from python list to arrays then transpose\n",
    "output = np.dot(inputs, np.array(weights).T) + biases\n",
    "print(output)"
   ]
  }
 ],
 "metadata": {
  "kernelspec": {
   "display_name": "Python 3",
   "language": "python",
   "name": "python3"
  },
  "language_info": {
   "codemirror_mode": {
    "name": "ipython",
    "version": 3
   },
   "file_extension": ".py",
   "mimetype": "text/x-python",
   "name": "python",
   "nbconvert_exporter": "python",
   "pygments_lexer": "ipython3",
   "version": "3.10.12"
  },
  "papermill": {
   "default_parameters": {},
   "duration": 10.943376,
   "end_time": "2023-07-28T07:48:55.747615",
   "environment_variables": {},
   "exception": null,
   "input_path": "__notebook__.ipynb",
   "output_path": "__notebook__.ipynb",
   "parameters": {},
   "start_time": "2023-07-28T07:48:44.804239",
   "version": "2.4.0"
  }
 },
 "nbformat": 4,
 "nbformat_minor": 5
}
