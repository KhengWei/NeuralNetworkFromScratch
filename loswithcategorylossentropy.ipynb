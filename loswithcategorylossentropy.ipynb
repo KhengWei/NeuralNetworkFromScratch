{
 "cells": [
  {
   "cell_type": "code",
   "execution_count": 1,
   "id": "4c38dd2f",
   "metadata": {
    "_cell_guid": "b1076dfc-b9ad-4769-8c92-a6c4dae69d19",
    "_uuid": "8f2839f25d086af736a60e9eeb907d3b93b6e0e5",
    "execution": {
     "iopub.execute_input": "2023-08-25T02:34:15.929144Z",
     "iopub.status.busy": "2023-08-25T02:34:15.927664Z",
     "iopub.status.idle": "2023-08-25T02:34:28.751143Z",
     "shell.execute_reply": "2023-08-25T02:34:28.749978Z"
    },
    "papermill": {
     "duration": 12.830713,
     "end_time": "2023-08-25T02:34:28.753731",
     "exception": false,
     "start_time": "2023-08-25T02:34:15.923018",
     "status": "completed"
    },
    "tags": []
   },
   "outputs": [
    {
     "name": "stdout",
     "output_type": "stream",
     "text": [
      "Numpy: 1.23.5\n",
      "Matplotlib 3.7.2\n",
      "Collecting nnfs\r\n",
      "  Downloading nnfs-0.5.1-py3-none-any.whl (9.1 kB)\r\n",
      "Requirement already satisfied: numpy in /opt/conda/lib/python3.10/site-packages (from nnfs) (1.23.5)\r\n",
      "Installing collected packages: nnfs\r\n",
      "Successfully installed nnfs-0.5.1\r\n"
     ]
    }
   ],
   "source": [
    "# Converting layers to object\n",
    "# initialise library\n",
    "import numpy as np\n",
    "import matplotlib as plt\n",
    "\n",
    "print(\"Numpy:\", np.__version__)\n",
    "print(\"Matplotlib\", plt.__version__)\n",
    "\n",
    "!pip install nnfs"
   ]
  },
  {
   "cell_type": "markdown",
   "id": "988c874b",
   "metadata": {
    "papermill": {
     "duration": 0.001748,
     "end_time": "2023-08-25T02:34:28.757805",
     "exception": false,
     "start_time": "2023-08-25T02:34:28.756057",
     "status": "completed"
    },
    "tags": []
   },
   "source": [
    "**Calculating Network Error with Loss**\n",
    "* With a randomly-initialized model, or even a model initialized with more sophisticated\n",
    "approaches, our goal is to train, or teach, a model over time. To train a model, we tweak the\n",
    "weights and biases to improve the model’s accuracy and confidence.\n",
    "* To do this, we calculate how\n",
    "much error the model has. The loss function, also referred to as the cost function, is the algorithm\n",
    "that quantifies how wrong a model is. Loss is the measure of this metric. Since loss is the model’s\n",
    "error, we ideally want it to be 0.\n",
    "* If you’re familiar with linear regression, then you already know one of the loss functions used\n",
    "with neural networks that do regression: squared error (or mean squared error with neural\n",
    "networks)."
   ]
  }
 ],
 "metadata": {
  "kernelspec": {
   "display_name": "Python 3",
   "language": "python",
   "name": "python3"
  },
  "language_info": {
   "codemirror_mode": {
    "name": "ipython",
    "version": 3
   },
   "file_extension": ".py",
   "mimetype": "text/x-python",
   "name": "python",
   "nbconvert_exporter": "python",
   "pygments_lexer": "ipython3",
   "version": "3.10.12"
  },
  "papermill": {
   "default_parameters": {},
   "duration": 23.30324,
   "end_time": "2023-08-25T02:34:29.682526",
   "environment_variables": {},
   "exception": null,
   "input_path": "__notebook__.ipynb",
   "output_path": "__notebook__.ipynb",
   "parameters": {},
   "start_time": "2023-08-25T02:34:06.379286",
   "version": "2.4.0"
  }
 },
 "nbformat": 4,
 "nbformat_minor": 5
}
