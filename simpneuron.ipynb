{
  "nbformat": 4,
  "nbformat_minor": 0,
  "metadata": {
    "colab": {
      "provenance": [],
      "authorship_tag": "ABX9TyNaHAp+GKkDI/+czJNqZpFu",
      "include_colab_link": true
    },
    "kernelspec": {
      "name": "python3",
      "display_name": "Python 3"
    },
    "language_info": {
      "name": "python"
    }
  },
  "cells": [
    {
      "cell_type": "markdown",
      "metadata": {
        "id": "view-in-github",
        "colab_type": "text"
      },
      "source": [
        "<a href=\"https://colab.research.google.com/github/KhengWei/NeuralNetworkFromScratch/blob/Testing/simpneuron.ipynb\" target=\"_parent\"><img src=\"https://colab.research.google.com/assets/colab-badge.svg\" alt=\"Open In Colab\"/></a>"
      ]
    },
    {
      "cell_type": "markdown",
      "source": [
        "Simulating 3 neuron processing data\n",
        "\n",
        "\n"
      ],
      "metadata": {
        "id": "HLolEMANCUAl"
      }
    },
    {
      "cell_type": "code",
      "execution_count": 1,
      "metadata": {
        "id": "4urRvk21B4xk"
      },
      "outputs": [],
      "source": [
        "import sys\n",
        "import numpy as np\n",
        "import matplotlib\n"
      ]
    },
    {
      "cell_type": "markdown",
      "source": [
        "Check if libraries are legit imported"
      ],
      "metadata": {
        "id": "FHBIDeVbEYTp"
      }
    },
    {
      "cell_type": "markdown",
      "source": [],
      "metadata": {
        "id": "Ug7Bf3BhEXtx"
      }
    },
    {
      "cell_type": "code",
      "source": [
        "print(\"Python:\", sys.version)\n",
        "print(\"Numpy:\", np.__version__)\n",
        "print(\"Matplotlib\", matplotlib.__version__)"
      ],
      "metadata": {
        "colab": {
          "base_uri": "https://localhost:8080/"
        },
        "id": "4iRgvYkJEXaZ",
        "outputId": "7f13e8a3-9cf2-4f50-f66b-6807e949caa7"
      },
      "execution_count": 2,
      "outputs": [
        {
          "output_type": "stream",
          "name": "stdout",
          "text": [
            "Python: 3.10.12 (main, Jun  7 2023, 12:45:35) [GCC 9.4.0]\n",
            "Numpy: 1.22.4\n",
            "Matplotlib 3.7.1\n"
          ]
        }
      ]
    },
    {
      "cell_type": "markdown",
      "source": [
        "Simulating a simple neuron"
      ],
      "metadata": {
        "id": "gNvVmk78CSgL"
      }
    },
    {
      "cell_type": "code",
      "source": [
        "inputs = [1, 2, 3, 2.5] # input layer\n",
        "#Every unique input is going to have unique weight associated with it\n",
        "weights = [0.2, 0.8, -0.5, 1.0]\n",
        "# Every unique neuron has a unique bias\n",
        "bias = 2\n",
        "\n",
        "output = inputs[0]*weights[0] + inputs[1]*weights[1] + inputs[2]*weights[2] + inputs[3]*weights[3] + bias\n",
        "print(output)\n"
      ],
      "metadata": {
        "colab": {
          "base_uri": "https://localhost:8080/"
        },
        "id": "j5P9orklFRzy",
        "outputId": "d4754528-5adb-4678-ba67-ba2c1eea78ab"
      },
      "execution_count": 9,
      "outputs": [
        {
          "output_type": "stream",
          "name": "stdout",
          "text": [
            "4.8\n"
          ]
        }
      ]
    },
    {
      "cell_type": "code",
      "source": [],
      "metadata": {
        "id": "7WFIJj4TMkui"
      },
      "execution_count": null,
      "outputs": []
    }
  ]
}