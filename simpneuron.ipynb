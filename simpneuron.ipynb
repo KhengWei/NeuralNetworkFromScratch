{
  "nbformat": 4,
  "nbformat_minor": 0,
  "metadata": {
    "colab": {
      "provenance": [],
      "authorship_tag": "ABX9TyMhiSLrUo1hhgXginnI/OBo",
      "include_colab_link": true
    },
    "kernelspec": {
      "name": "python3",
      "display_name": "Python 3"
    },
    "language_info": {
      "name": "python"
    }
  },
  "cells": [
    {
      "cell_type": "markdown",
      "metadata": {
        "id": "view-in-github",
        "colab_type": "text"
      },
      "source": [
        "<a href=\"https://colab.research.google.com/github/KhengWei/NeuralNetworkFromScratch/blob/Testing/simpneuron.ipynb\" target=\"_parent\"><img src=\"https://colab.research.google.com/assets/colab-badge.svg\" alt=\"Open In Colab\"/></a>"
      ]
    },
    {
      "cell_type": "markdown",
      "source": [
        "Building neural network from scratch"
      ],
      "metadata": {
        "id": "HLolEMANCUAl"
      }
    },
    {
      "cell_type": "code",
      "execution_count": 1,
      "metadata": {
        "id": "4urRvk21B4xk"
      },
      "outputs": [],
      "source": [
        "import sys\n",
        "import numpy as np\n",
        "import matplotlib\n"
      ]
    },
    {
      "cell_type": "markdown",
      "source": [
        "Check if libraries are legit imported"
      ],
      "metadata": {
        "id": "FHBIDeVbEYTp"
      }
    },
    {
      "cell_type": "markdown",
      "source": [],
      "metadata": {
        "id": "Ug7Bf3BhEXtx"
      }
    },
    {
      "cell_type": "code",
      "source": [
        "print(\"Python:\", sys.version)\n",
        "print(\"Numpy:\", np.__version__)\n",
        "print(\"Matplotlib\", matplotlib.__version__)"
      ],
      "metadata": {
        "colab": {
          "base_uri": "https://localhost:8080/"
        },
        "id": "4iRgvYkJEXaZ",
        "outputId": "7f13e8a3-9cf2-4f50-f66b-6807e949caa7"
      },
      "execution_count": 2,
      "outputs": [
        {
          "output_type": "stream",
          "name": "stdout",
          "text": [
            "Python: 3.10.12 (main, Jun  7 2023, 12:45:35) [GCC 9.4.0]\n",
            "Numpy: 1.22.4\n",
            "Matplotlib 3.7.1\n"
          ]
        }
      ]
    },
    {
      "cell_type": "markdown",
      "source": [
        "Simulating a simple neuron"
      ],
      "metadata": {
        "id": "gNvVmk78CSgL"
      }
    },
    {
      "cell_type": "code",
      "source": [
        "inputs = [1.2, 5.1, 2.1]\n",
        "#Every unique input is going to have unique weight associated with it\n",
        "weights = [3.1, 2.1, 8.7]\n",
        "# Every unique neuron has a unique bias\n",
        "bias = 3\n",
        "\n",
        "output = inputs[0]*weights[0] + inputs[1]*weights[1] + inputs[2]*weights[2] + bias\n",
        "print(output)"
      ],
      "metadata": {
        "colab": {
          "base_uri": "https://localhost:8080/"
        },
        "id": "j5P9orklFRzy",
        "outputId": "c1d00ff4-30ca-4b48-bafe-07f0d8e9ec63"
      },
      "execution_count": 4,
      "outputs": [
        {
          "output_type": "stream",
          "name": "stdout",
          "text": [
            "35.7\n"
          ]
        }
      ]
    }
  ]
}