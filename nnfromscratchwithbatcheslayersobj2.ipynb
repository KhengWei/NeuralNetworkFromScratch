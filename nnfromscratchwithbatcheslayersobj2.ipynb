{
 "cells": [
  {
   "cell_type": "code",
   "execution_count": 1,
   "id": "eec5f6fb",
   "metadata": {
    "_cell_guid": "b1076dfc-b9ad-4769-8c92-a6c4dae69d19",
    "_uuid": "8f2839f25d086af736a60e9eeb907d3b93b6e0e5",
    "execution": {
     "iopub.execute_input": "2023-07-28T08:59:21.977633Z",
     "iopub.status.busy": "2023-07-28T08:59:21.977223Z",
     "iopub.status.idle": "2023-07-28T08:59:21.988668Z",
     "shell.execute_reply": "2023-07-28T08:59:21.987826Z"
    },
    "papermill": {
     "duration": 0.016917,
     "end_time": "2023-07-28T08:59:21.990559",
     "exception": false,
     "start_time": "2023-07-28T08:59:21.973642",
     "status": "completed"
    },
    "tags": []
   },
   "outputs": [
    {
     "name": "stdout",
     "output_type": "stream",
     "text": [
      "Numpy: 1.23.5\n",
      "Matplotlib 3.7.2\n"
     ]
    }
   ],
   "source": [
    "# Converting layers to object\n",
    "# initialise library\n",
    "import numpy as np\n",
    "import matplotlib as plt\n",
    "\n",
    "print(\"Numpy:\", np.__version__)\n",
    "print(\"Matplotlib\", plt.__version__)"
   ]
  },
  {
   "cell_type": "markdown",
   "id": "8fd7800d",
   "metadata": {
    "papermill": {
     "duration": 0.001351,
     "end_time": "2023-07-28T08:59:21.993797",
     "exception": false,
     "start_time": "2023-07-28T08:59:21.992446",
     "status": "completed"
    },
    "tags": []
   },
   "source": [
    "* How we initialise our layer?\n",
    "* There are 2 ways to initialise our layer\n",
    "* You have trained model that you have saved & you want to load in the model so what happens when you save a model, what you all be doing is actually just saving weights & the biases. When you load the model, what you are doing is setting the weights & biases as whatever in that saved model"
   ]
  },
  {
   "cell_type": "code",
   "execution_count": 2,
   "id": "e0e5fd96",
   "metadata": {
    "execution": {
     "iopub.execute_input": "2023-07-28T08:59:21.998011Z",
     "iopub.status.busy": "2023-07-28T08:59:21.997617Z",
     "iopub.status.idle": "2023-07-28T08:59:22.012226Z",
     "shell.execute_reply": "2023-07-28T08:59:22.010992Z"
    },
    "papermill": {
     "duration": 0.01899,
     "end_time": "2023-07-28T08:59:22.014148",
     "exception": false,
     "start_time": "2023-07-28T08:59:21.995158",
     "status": "completed"
    },
    "tags": []
   },
   "outputs": [
    {
     "name": "stdout",
     "output_type": "stream",
     "text": [
      "[[ 0.148296   -0.08397602]\n",
      " [ 0.14100315 -0.01340469]\n",
      " [ 0.20124979 -0.07290616]]\n"
     ]
    }
   ],
   "source": [
    "np.random.seed(0) #\n",
    "\n",
    "# Its a standard convention in ML/DL that input feature sets is going to be denoted by capital X\n",
    "X = [[1, 2, 3, 2.5],\n",
    "     [2.0, 5.0, -1.0, 2.0],\n",
    "     [-1.5, 2.7, 3.3, -0.8]]\n",
    "# We are going to code our hidden layer\n",
    "# The reason is called a hidden layer because we as a programmer is not in charge of that layer\n",
    "\n",
    "class Layer_Dense:\n",
    "    def __init__(self, n_inputs, n_neurons):\n",
    "        # it is convention to set the weights to be small between 0 & 1\n",
    "        # setting our weights to be between 0 to 1 hence 0.1*random()\n",
    "        self.weights = 0.10 * np.random.randn(n_inputs, n_neurons) \n",
    "        self.biases = np.zeros((1, n_neurons)) # passing the shape, (()) is a tuple\n",
    "    def foward(self, inputs):\n",
    "        self.output = np.dot(inputs, self.weights) + self.biases\n",
    "        \n",
    "# lets test our class\n",
    "# for neurons, you can set whatever values you want\n",
    "layer1 = Layer_Dense(4, 5)\n",
    "\n",
    "#output from layer1 will be input for layer 2\n",
    "#input is 5 because we set out neuron = 5 in layer1\n",
    "layer2 = Layer_Dense(5, 2)\n",
    "# we now pass our data X to foward function\n",
    "layer1.foward(X)\n",
    "#print(layer1.output)\n",
    "# our output layer1 will be our input in layer2\n",
    "layer2.foward(layer1.output)\n",
    "print(layer2.output)\n"
   ]
  }
 ],
 "metadata": {
  "kernelspec": {
   "display_name": "Python 3",
   "language": "python",
   "name": "python3"
  },
  "language_info": {
   "codemirror_mode": {
    "name": "ipython",
    "version": 3
   },
   "file_extension": ".py",
   "mimetype": "text/x-python",
   "name": "python",
   "nbconvert_exporter": "python",
   "pygments_lexer": "ipython3",
   "version": "3.10.12"
  },
  "papermill": {
   "default_parameters": {},
   "duration": 9.592799,
   "end_time": "2023-07-28T08:59:22.837473",
   "environment_variables": {},
   "exception": null,
   "input_path": "__notebook__.ipynb",
   "output_path": "__notebook__.ipynb",
   "parameters": {},
   "start_time": "2023-07-28T08:59:13.244674",
   "version": "2.4.0"
  }
 },
 "nbformat": 4,
 "nbformat_minor": 5
}
