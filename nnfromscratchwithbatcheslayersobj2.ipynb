{
 "cells": [
  {
   "cell_type": "code",
   "execution_count": 1,
   "id": "8ecc8007",
   "metadata": {
    "_cell_guid": "b1076dfc-b9ad-4769-8c92-a6c4dae69d19",
    "_uuid": "8f2839f25d086af736a60e9eeb907d3b93b6e0e5",
    "execution": {
     "iopub.execute_input": "2023-07-28T08:29:38.894247Z",
     "iopub.status.busy": "2023-07-28T08:29:38.893855Z",
     "iopub.status.idle": "2023-07-28T08:29:38.906574Z",
     "shell.execute_reply": "2023-07-28T08:29:38.905832Z"
    },
    "papermill": {
     "duration": 0.018869,
     "end_time": "2023-07-28T08:29:38.908695",
     "exception": false,
     "start_time": "2023-07-28T08:29:38.889826",
     "status": "completed"
    },
    "tags": []
   },
   "outputs": [
    {
     "name": "stdout",
     "output_type": "stream",
     "text": [
      "Numpy: 1.23.5\n",
      "Matplotlib 3.7.2\n"
     ]
    }
   ],
   "source": [
    "# Converting layers to object\n",
    "# initialise library\n",
    "import numpy as np\n",
    "import matplotlib as plt\n",
    "\n",
    "print(\"Numpy:\", np.__version__)\n",
    "print(\"Matplotlib\", plt.__version__)"
   ]
  },
  {
   "cell_type": "markdown",
   "id": "b4214d22",
   "metadata": {
    "papermill": {
     "duration": 0.001729,
     "end_time": "2023-07-28T08:29:38.912758",
     "exception": false,
     "start_time": "2023-07-28T08:29:38.911029",
     "status": "completed"
    },
    "tags": []
   },
   "source": [
    "* How we initialise our layer?\n",
    "* There are 2 ways to initialise our layer\n",
    "* You have trained model that you have saved & you want to load in the model so what happens when you save a model, what you all be doing is actually just saving weights & the biases. When you load the model, what you are doing is setting the weights & biases as whatever in that saved model"
   ]
  },
  {
   "cell_type": "code",
   "execution_count": 2,
   "id": "945866ef",
   "metadata": {
    "execution": {
     "iopub.execute_input": "2023-07-28T08:29:38.918009Z",
     "iopub.status.busy": "2023-07-28T08:29:38.917659Z",
     "iopub.status.idle": "2023-07-28T08:29:38.923664Z",
     "shell.execute_reply": "2023-07-28T08:29:38.922734Z"
    },
    "papermill": {
     "duration": 0.011025,
     "end_time": "2023-07-28T08:29:38.925677",
     "exception": false,
     "start_time": "2023-07-28T08:29:38.914652",
     "status": "completed"
    },
    "tags": []
   },
   "outputs": [],
   "source": [
    "np.random.seed(0) \n",
    "\n",
    "# Its a standard convention in ML/DL that input feature sets is going to be denoted by capital X\n",
    "X = [[1, 2, 3, 2.5],\n",
    "     [2.0, 5.0, -1.0, 2.0],\n",
    "     [-1.5, 2.7, 3.3, -0.8]]\n",
    "# We are going to code our hidden layer\n",
    "# The reason is called a hidden layer because we as a programmer is not in charge of that layer\n",
    "\n",
    "class layer_dense:\n",
    "    def __init__(self):\n",
    "        pass\n",
    "    def foward(self):\n",
    "        pass\n"
   ]
  }
 ],
 "metadata": {
  "kernelspec": {
   "display_name": "Python 3",
   "language": "python",
   "name": "python3"
  },
  "language_info": {
   "codemirror_mode": {
    "name": "ipython",
    "version": 3
   },
   "file_extension": ".py",
   "mimetype": "text/x-python",
   "name": "python",
   "nbconvert_exporter": "python",
   "pygments_lexer": "ipython3",
   "version": "3.10.12"
  },
  "papermill": {
   "default_parameters": {},
   "duration": 11.286454,
   "end_time": "2023-07-28T08:29:39.647526",
   "environment_variables": {},
   "exception": null,
   "input_path": "__notebook__.ipynb",
   "output_path": "__notebook__.ipynb",
   "parameters": {},
   "start_time": "2023-07-28T08:29:28.361072",
   "version": "2.4.0"
  }
 },
 "nbformat": 4,
 "nbformat_minor": 5
}
